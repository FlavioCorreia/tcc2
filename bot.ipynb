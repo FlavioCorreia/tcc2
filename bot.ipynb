{
 "cells": [
  {
   "cell_type": "code",
   "execution_count": 1,
   "id": "2b274aab",
   "metadata": {},
   "outputs": [
    {
     "ename": "RuntimeError",
     "evalue": "module compiled against API version 0x10 but this version of numpy is 0xe",
     "output_type": "error",
     "traceback": [
      "\u001b[0;31m---------------------------------------------------------------------------\u001b[0m",
      "\u001b[0;31mRuntimeError\u001b[0m                              Traceback (most recent call last)",
      "\u001b[0;31mRuntimeError\u001b[0m: module compiled against API version 0x10 but this version of numpy is 0xe"
     ]
    },
    {
     "ename": "ImportError",
     "evalue": "numpy.core.multiarray failed to import",
     "output_type": "error",
     "traceback": [
      "\u001b[0;31m---------------------------------------------------------------------------\u001b[0m",
      "\u001b[0;31mImportError\u001b[0m                               Traceback (most recent call last)",
      "Input \u001b[0;32mIn [1]\u001b[0m, in \u001b[0;36m<cell line: 3>\u001b[0;34m()\u001b[0m\n\u001b[1;32m      1\u001b[0m \u001b[38;5;28;01mfrom\u001b[39;00m \u001b[38;5;21;01mtelegram\u001b[39;00m \u001b[38;5;28;01mimport\u001b[39;00m Update, ForceReply\n\u001b[1;32m      2\u001b[0m \u001b[38;5;28;01mfrom\u001b[39;00m \u001b[38;5;21;01mtelegram\u001b[39;00m\u001b[38;5;21;01m.\u001b[39;00m\u001b[38;5;21;01mext\u001b[39;00m \u001b[38;5;28;01mimport\u001b[39;00m Updater, CommandHandler, MessageHandler, Filters, CallbackContext, ConversationHandler\n\u001b[0;32m----> 3\u001b[0m \u001b[38;5;28;01mfrom\u001b[39;00m \u001b[38;5;21;01mpycaret\u001b[39;00m\u001b[38;5;21;01m.\u001b[39;00m\u001b[38;5;21;01mclassification\u001b[39;00m \u001b[38;5;28;01mimport\u001b[39;00m \u001b[38;5;241m*\u001b[39m\n",
      "File \u001b[0;32m~/opt/miniconda3/envs/pyDev/lib/python3.8/site-packages/pycaret/classification.py:10\u001b[0m, in \u001b[0;36m<module>\u001b[0;34m\u001b[0m\n\u001b[1;32m      7\u001b[0m \u001b[38;5;28;01mimport\u001b[39;00m \u001b[38;5;21;01mpandas\u001b[39;00m \u001b[38;5;28;01mas\u001b[39;00m \u001b[38;5;21;01mpd\u001b[39;00m\n\u001b[1;32m      8\u001b[0m \u001b[38;5;28;01mimport\u001b[39;00m \u001b[38;5;21;01mnumpy\u001b[39;00m \u001b[38;5;28;01mas\u001b[39;00m \u001b[38;5;21;01mnp\u001b[39;00m\n\u001b[0;32m---> 10\u001b[0m \u001b[38;5;28;01mimport\u001b[39;00m \u001b[38;5;21;01mpycaret\u001b[39;00m\u001b[38;5;21;01m.\u001b[39;00m\u001b[38;5;21;01minternal\u001b[39;00m\u001b[38;5;21;01m.\u001b[39;00m\u001b[38;5;21;01mtabular\u001b[39;00m\n\u001b[1;32m     11\u001b[0m \u001b[38;5;28;01mfrom\u001b[39;00m \u001b[38;5;21;01mpycaret\u001b[39;00m\u001b[38;5;21;01m.\u001b[39;00m\u001b[38;5;21;01mloggers\u001b[39;00m\u001b[38;5;21;01m.\u001b[39;00m\u001b[38;5;21;01mbase_logger\u001b[39;00m \u001b[38;5;28;01mimport\u001b[39;00m BaseLogger\n\u001b[1;32m     12\u001b[0m \u001b[38;5;28;01mfrom\u001b[39;00m \u001b[38;5;21;01mpycaret\u001b[39;00m\u001b[38;5;21;01m.\u001b[39;00m\u001b[38;5;21;01mparallel\u001b[39;00m \u001b[38;5;28;01mimport\u001b[39;00m ParallelBackend\n",
      "File \u001b[0;32m~/opt/miniconda3/envs/pyDev/lib/python3.8/site-packages/pycaret/internal/tabular.py:54\u001b[0m, in \u001b[0;36m<module>\u001b[0;34m\u001b[0m\n\u001b[1;32m     52\u001b[0m \u001b[38;5;28;01mimport\u001b[39;00m \u001b[38;5;21;01mpycaret\u001b[39;00m\u001b[38;5;21;01m.\u001b[39;00m\u001b[38;5;21;01mcontainers\u001b[39;00m\u001b[38;5;21;01m.\u001b[39;00m\u001b[38;5;21;01mmodels\u001b[39;00m\u001b[38;5;21;01m.\u001b[39;00m\u001b[38;5;21;01mclustering\u001b[39;00m\n\u001b[1;32m     53\u001b[0m \u001b[38;5;28;01mimport\u001b[39;00m \u001b[38;5;21;01mpycaret\u001b[39;00m\u001b[38;5;21;01m.\u001b[39;00m\u001b[38;5;21;01mcontainers\u001b[39;00m\u001b[38;5;21;01m.\u001b[39;00m\u001b[38;5;21;01mmodels\u001b[39;00m\u001b[38;5;21;01m.\u001b[39;00m\u001b[38;5;21;01manomaly\u001b[39;00m\n\u001b[0;32m---> 54\u001b[0m \u001b[38;5;28;01mimport\u001b[39;00m \u001b[38;5;21;01mpycaret\u001b[39;00m\u001b[38;5;21;01m.\u001b[39;00m\u001b[38;5;21;01minternal\u001b[39;00m\u001b[38;5;21;01m.\u001b[39;00m\u001b[38;5;21;01mpreprocess\u001b[39;00m\n\u001b[1;32m     55\u001b[0m \u001b[38;5;28;01mimport\u001b[39;00m \u001b[38;5;21;01mpandas\u001b[39;00m \u001b[38;5;28;01mas\u001b[39;00m \u001b[38;5;21;01mpd\u001b[39;00m\n\u001b[1;32m     56\u001b[0m \u001b[38;5;28;01mimport\u001b[39;00m \u001b[38;5;21;01mnumpy\u001b[39;00m \u001b[38;5;28;01mas\u001b[39;00m \u001b[38;5;21;01mnp\u001b[39;00m\n",
      "File \u001b[0;32m~/opt/miniconda3/envs/pyDev/lib/python3.8/site-packages/pycaret/internal/preprocess.py:27\u001b[0m, in \u001b[0;36m<module>\u001b[0;34m\u001b[0m\n\u001b[1;32m     25\u001b[0m \u001b[38;5;28;01mfrom\u001b[39;00m \u001b[38;5;21;01msklearn\u001b[39;00m\u001b[38;5;21;01m.\u001b[39;00m\u001b[38;5;21;01mdecomposition\u001b[39;00m \u001b[38;5;28;01mimport\u001b[39;00m IncrementalPCA\n\u001b[1;32m     26\u001b[0m \u001b[38;5;28;01mfrom\u001b[39;00m \u001b[38;5;21;01msklearn\u001b[39;00m\u001b[38;5;21;01m.\u001b[39;00m\u001b[38;5;21;01mpreprocessing\u001b[39;00m \u001b[38;5;28;01mimport\u001b[39;00m KBinsDiscretizer\n\u001b[0;32m---> 27\u001b[0m \u001b[38;5;28;01mfrom\u001b[39;00m \u001b[38;5;21;01mpyod\u001b[39;00m\u001b[38;5;21;01m.\u001b[39;00m\u001b[38;5;21;01mmodels\u001b[39;00m\u001b[38;5;21;01m.\u001b[39;00m\u001b[38;5;21;01mknn\u001b[39;00m \u001b[38;5;28;01mimport\u001b[39;00m KNN\n\u001b[1;32m     28\u001b[0m \u001b[38;5;28;01mfrom\u001b[39;00m \u001b[38;5;21;01mpyod\u001b[39;00m\u001b[38;5;21;01m.\u001b[39;00m\u001b[38;5;21;01mmodels\u001b[39;00m\u001b[38;5;21;01m.\u001b[39;00m\u001b[38;5;21;01miforest\u001b[39;00m \u001b[38;5;28;01mimport\u001b[39;00m IForest\n\u001b[1;32m     29\u001b[0m \u001b[38;5;28;01mfrom\u001b[39;00m \u001b[38;5;21;01mpyod\u001b[39;00m\u001b[38;5;21;01m.\u001b[39;00m\u001b[38;5;21;01mmodels\u001b[39;00m\u001b[38;5;21;01m.\u001b[39;00m\u001b[38;5;21;01mpca\u001b[39;00m \u001b[38;5;28;01mimport\u001b[39;00m PCA \u001b[38;5;28;01mas\u001b[39;00m PCA_od\n",
      "File \u001b[0;32m~/opt/miniconda3/envs/pyDev/lib/python3.8/site-packages/pyod/__init__.py:4\u001b[0m, in \u001b[0;36m<module>\u001b[0;34m\u001b[0m\n\u001b[1;32m      1\u001b[0m \u001b[38;5;66;03m# -*- coding: utf-8 -*-\u001b[39;00m\n\u001b[1;32m      3\u001b[0m \u001b[38;5;28;01mfrom\u001b[39;00m \u001b[38;5;21;01m.\u001b[39;00m \u001b[38;5;28;01mimport\u001b[39;00m models\n\u001b[0;32m----> 4\u001b[0m \u001b[38;5;28;01mfrom\u001b[39;00m \u001b[38;5;21;01m.\u001b[39;00m \u001b[38;5;28;01mimport\u001b[39;00m utils\n\u001b[1;32m      5\u001b[0m \u001b[38;5;66;03m# TODO: add version information here\u001b[39;00m\n\u001b[1;32m      7\u001b[0m __all__ \u001b[38;5;241m=\u001b[39m [\u001b[38;5;124m'\u001b[39m\u001b[38;5;124mmodels\u001b[39m\u001b[38;5;124m'\u001b[39m, \u001b[38;5;124m'\u001b[39m\u001b[38;5;124mutils\u001b[39m\u001b[38;5;124m'\u001b[39m]\n",
      "File \u001b[0;32m~/opt/miniconda3/envs/pyDev/lib/python3.8/site-packages/pyod/utils/__init__.py:12\u001b[0m, in \u001b[0;36m<module>\u001b[0;34m\u001b[0m\n\u001b[1;32m     10\u001b[0m \u001b[38;5;28;01mfrom\u001b[39;00m \u001b[38;5;21;01m.\u001b[39;00m\u001b[38;5;21;01mdata\u001b[39;00m \u001b[38;5;28;01mimport\u001b[39;00m generate_data\n\u001b[1;32m     11\u001b[0m \u001b[38;5;28;01mfrom\u001b[39;00m \u001b[38;5;21;01m.\u001b[39;00m\u001b[38;5;21;01mdata\u001b[39;00m \u001b[38;5;28;01mimport\u001b[39;00m evaluate_print\n\u001b[0;32m---> 12\u001b[0m \u001b[38;5;28;01mfrom\u001b[39;00m \u001b[38;5;21;01m.\u001b[39;00m\u001b[38;5;21;01mstat_models\u001b[39;00m \u001b[38;5;28;01mimport\u001b[39;00m pairwise_distances_no_broadcast\n\u001b[1;32m     13\u001b[0m \u001b[38;5;28;01mfrom\u001b[39;00m \u001b[38;5;21;01m.\u001b[39;00m\u001b[38;5;21;01mstat_models\u001b[39;00m \u001b[38;5;28;01mimport\u001b[39;00m wpearsonr\n\u001b[1;32m     14\u001b[0m \u001b[38;5;28;01mfrom\u001b[39;00m \u001b[38;5;21;01m.\u001b[39;00m\u001b[38;5;21;01mstat_models\u001b[39;00m \u001b[38;5;28;01mimport\u001b[39;00m pearsonr_mat\n",
      "File \u001b[0;32m~/opt/miniconda3/envs/pyDev/lib/python3.8/site-packages/pyod/utils/stat_models.py:11\u001b[0m, in \u001b[0;36m<module>\u001b[0;34m\u001b[0m\n\u001b[1;32m      8\u001b[0m \u001b[38;5;28;01mfrom\u001b[39;00m \u001b[38;5;21;01m__future__\u001b[39;00m \u001b[38;5;28;01mimport\u001b[39;00m print_function\n\u001b[1;32m     10\u001b[0m \u001b[38;5;28;01mimport\u001b[39;00m \u001b[38;5;21;01mnumpy\u001b[39;00m \u001b[38;5;28;01mas\u001b[39;00m \u001b[38;5;21;01mnp\u001b[39;00m\n\u001b[0;32m---> 11\u001b[0m \u001b[38;5;28;01mfrom\u001b[39;00m \u001b[38;5;21;01mnumba\u001b[39;00m \u001b[38;5;28;01mimport\u001b[39;00m njit\n\u001b[1;32m     12\u001b[0m \u001b[38;5;28;01mfrom\u001b[39;00m \u001b[38;5;21;01mscipy\u001b[39;00m\u001b[38;5;21;01m.\u001b[39;00m\u001b[38;5;21;01mstats\u001b[39;00m \u001b[38;5;28;01mimport\u001b[39;00m pearsonr\n\u001b[1;32m     13\u001b[0m \u001b[38;5;28;01mfrom\u001b[39;00m \u001b[38;5;21;01msklearn\u001b[39;00m\u001b[38;5;21;01m.\u001b[39;00m\u001b[38;5;21;01mutils\u001b[39;00m\u001b[38;5;21;01m.\u001b[39;00m\u001b[38;5;21;01mvalidation\u001b[39;00m \u001b[38;5;28;01mimport\u001b[39;00m check_array\n",
      "File \u001b[0;32m~/opt/miniconda3/envs/pyDev/lib/python3.8/site-packages/numba/__init__.py:39\u001b[0m, in \u001b[0;36m<module>\u001b[0;34m\u001b[0m\n\u001b[1;32m     36\u001b[0m \u001b[38;5;28;01mfrom\u001b[39;00m \u001b[38;5;21;01mnumba\u001b[39;00m\u001b[38;5;21;01m.\u001b[39;00m\u001b[38;5;21;01mcore\u001b[39;00m\u001b[38;5;21;01m.\u001b[39;00m\u001b[38;5;21;01mtypes\u001b[39;00m \u001b[38;5;28;01mimport\u001b[39;00m \u001b[38;5;241m*\u001b[39m\n\u001b[1;32m     38\u001b[0m \u001b[38;5;66;03m# Re-export decorators\u001b[39;00m\n\u001b[0;32m---> 39\u001b[0m \u001b[38;5;28;01mfrom\u001b[39;00m \u001b[38;5;21;01mnumba\u001b[39;00m\u001b[38;5;21;01m.\u001b[39;00m\u001b[38;5;21;01mcore\u001b[39;00m\u001b[38;5;21;01m.\u001b[39;00m\u001b[38;5;21;01mdecorators\u001b[39;00m \u001b[38;5;28;01mimport\u001b[39;00m (cfunc, generated_jit, jit, njit, stencil,\n\u001b[1;32m     40\u001b[0m                                    jit_module)\n\u001b[1;32m     42\u001b[0m \u001b[38;5;66;03m# Re-export vectorize decorators and the thread layer querying function\u001b[39;00m\n\u001b[1;32m     43\u001b[0m \u001b[38;5;28;01mfrom\u001b[39;00m \u001b[38;5;21;01mnumba\u001b[39;00m\u001b[38;5;21;01m.\u001b[39;00m\u001b[38;5;21;01mnp\u001b[39;00m\u001b[38;5;21;01m.\u001b[39;00m\u001b[38;5;21;01mufunc\u001b[39;00m \u001b[38;5;28;01mimport\u001b[39;00m (vectorize, guvectorize, threading_layer,\n\u001b[1;32m     44\u001b[0m                             get_num_threads, set_num_threads)\n",
      "File \u001b[0;32m~/opt/miniconda3/envs/pyDev/lib/python3.8/site-packages/numba/core/decorators.py:12\u001b[0m, in \u001b[0;36m<module>\u001b[0;34m\u001b[0m\n\u001b[1;32m      9\u001b[0m \u001b[38;5;28;01mimport\u001b[39;00m \u001b[38;5;21;01mlogging\u001b[39;00m\n\u001b[1;32m     11\u001b[0m \u001b[38;5;28;01mfrom\u001b[39;00m \u001b[38;5;21;01mnumba\u001b[39;00m\u001b[38;5;21;01m.\u001b[39;00m\u001b[38;5;21;01mcore\u001b[39;00m\u001b[38;5;21;01m.\u001b[39;00m\u001b[38;5;21;01merrors\u001b[39;00m \u001b[38;5;28;01mimport\u001b[39;00m DeprecationError, NumbaDeprecationWarning\n\u001b[0;32m---> 12\u001b[0m \u001b[38;5;28;01mfrom\u001b[39;00m \u001b[38;5;21;01mnumba\u001b[39;00m\u001b[38;5;21;01m.\u001b[39;00m\u001b[38;5;21;01mstencils\u001b[39;00m\u001b[38;5;21;01m.\u001b[39;00m\u001b[38;5;21;01mstencil\u001b[39;00m \u001b[38;5;28;01mimport\u001b[39;00m stencil\n\u001b[1;32m     13\u001b[0m \u001b[38;5;28;01mfrom\u001b[39;00m \u001b[38;5;21;01mnumba\u001b[39;00m\u001b[38;5;21;01m.\u001b[39;00m\u001b[38;5;21;01mcore\u001b[39;00m \u001b[38;5;28;01mimport\u001b[39;00m config, extending, sigutils, registry\n\u001b[1;32m     15\u001b[0m _logger \u001b[38;5;241m=\u001b[39m logging\u001b[38;5;241m.\u001b[39mgetLogger(\u001b[38;5;18m__name__\u001b[39m)\n",
      "File \u001b[0;32m~/opt/miniconda3/envs/pyDev/lib/python3.8/site-packages/numba/stencils/stencil.py:11\u001b[0m, in \u001b[0;36m<module>\u001b[0;34m\u001b[0m\n\u001b[1;32m      8\u001b[0m \u001b[38;5;28;01mimport\u001b[39;00m \u001b[38;5;21;01mnumpy\u001b[39;00m \u001b[38;5;28;01mas\u001b[39;00m \u001b[38;5;21;01mnp\u001b[39;00m\n\u001b[1;32m      9\u001b[0m \u001b[38;5;28;01mfrom\u001b[39;00m \u001b[38;5;21;01mllvmlite\u001b[39;00m \u001b[38;5;28;01mimport\u001b[39;00m ir \u001b[38;5;28;01mas\u001b[39;00m lir\n\u001b[0;32m---> 11\u001b[0m \u001b[38;5;28;01mfrom\u001b[39;00m \u001b[38;5;21;01mnumba\u001b[39;00m\u001b[38;5;21;01m.\u001b[39;00m\u001b[38;5;21;01mcore\u001b[39;00m \u001b[38;5;28;01mimport\u001b[39;00m types, typing, utils, ir, config, ir_utils, registry\n\u001b[1;32m     12\u001b[0m \u001b[38;5;28;01mfrom\u001b[39;00m \u001b[38;5;21;01mnumba\u001b[39;00m\u001b[38;5;21;01m.\u001b[39;00m\u001b[38;5;21;01mcore\u001b[39;00m\u001b[38;5;21;01m.\u001b[39;00m\u001b[38;5;21;01mtyping\u001b[39;00m\u001b[38;5;21;01m.\u001b[39;00m\u001b[38;5;21;01mtemplates\u001b[39;00m \u001b[38;5;28;01mimport\u001b[39;00m (CallableTemplate, signature,\n\u001b[1;32m     13\u001b[0m                                          infer_global, AbstractTemplate)\n\u001b[1;32m     14\u001b[0m \u001b[38;5;28;01mfrom\u001b[39;00m \u001b[38;5;21;01mnumba\u001b[39;00m\u001b[38;5;21;01m.\u001b[39;00m\u001b[38;5;21;01mcore\u001b[39;00m\u001b[38;5;21;01m.\u001b[39;00m\u001b[38;5;21;01mimputils\u001b[39;00m \u001b[38;5;28;01mimport\u001b[39;00m lower_builtin\n",
      "File \u001b[0;32m~/opt/miniconda3/envs/pyDev/lib/python3.8/site-packages/numba/core/registry.py:4\u001b[0m, in \u001b[0;36m<module>\u001b[0;34m\u001b[0m\n\u001b[1;32m      1\u001b[0m \u001b[38;5;28;01mimport\u001b[39;00m \u001b[38;5;21;01mcontextlib\u001b[39;00m\n\u001b[1;32m      3\u001b[0m \u001b[38;5;28;01mfrom\u001b[39;00m \u001b[38;5;21;01mnumba\u001b[39;00m\u001b[38;5;21;01m.\u001b[39;00m\u001b[38;5;21;01mcore\u001b[39;00m\u001b[38;5;21;01m.\u001b[39;00m\u001b[38;5;21;01mdescriptors\u001b[39;00m \u001b[38;5;28;01mimport\u001b[39;00m TargetDescriptor\n\u001b[0;32m----> 4\u001b[0m \u001b[38;5;28;01mfrom\u001b[39;00m \u001b[38;5;21;01mnumba\u001b[39;00m\u001b[38;5;21;01m.\u001b[39;00m\u001b[38;5;21;01mcore\u001b[39;00m \u001b[38;5;28;01mimport\u001b[39;00m utils, typing, dispatcher, cpu\n\u001b[1;32m      6\u001b[0m \u001b[38;5;66;03m# -----------------------------------------------------------------------------\u001b[39;00m\n\u001b[1;32m      7\u001b[0m \u001b[38;5;66;03m# Default CPU target descriptors\u001b[39;00m\n\u001b[1;32m      9\u001b[0m \u001b[38;5;28;01mclass\u001b[39;00m \u001b[38;5;21;01m_NestedContext\u001b[39;00m(\u001b[38;5;28mobject\u001b[39m):\n",
      "File \u001b[0;32m~/opt/miniconda3/envs/pyDev/lib/python3.8/site-packages/numba/core/dispatcher.py:1333\u001b[0m, in \u001b[0;36m<module>\u001b[0;34m\u001b[0m\n\u001b[1;32m   1329\u001b[0m         \u001b[38;5;28;01mreturn\u001b[39;00m \u001b[38;5;28msuper\u001b[39m()\u001b[38;5;241m.\u001b[39mcompile(sig)\n\u001b[1;32m   1332\u001b[0m \u001b[38;5;66;03m# Initialize typeof machinery\u001b[39;00m\n\u001b[0;32m-> 1333\u001b[0m \u001b[43m_dispatcher\u001b[49m\u001b[38;5;241;43m.\u001b[39;49m\u001b[43mtypeof_init\u001b[49m\u001b[43m(\u001b[49m\n\u001b[1;32m   1334\u001b[0m \u001b[43m    \u001b[49m\u001b[43mOmittedArg\u001b[49m\u001b[43m,\u001b[49m\n\u001b[1;32m   1335\u001b[0m \u001b[43m    \u001b[49m\u001b[38;5;28;43mdict\u001b[39;49m\u001b[43m(\u001b[49m\u001b[43m(\u001b[49m\u001b[38;5;28;43mstr\u001b[39;49m\u001b[43m(\u001b[49m\u001b[43mt\u001b[49m\u001b[43m)\u001b[49m\u001b[43m,\u001b[49m\u001b[43m \u001b[49m\u001b[43mt\u001b[49m\u001b[38;5;241;43m.\u001b[39;49m\u001b[43m_code\u001b[49m\u001b[43m)\u001b[49m\u001b[43m \u001b[49m\u001b[38;5;28;43;01mfor\u001b[39;49;00m\u001b[43m \u001b[49m\u001b[43mt\u001b[49m\u001b[43m \u001b[49m\u001b[38;5;129;43;01min\u001b[39;49;00m\u001b[43m \u001b[49m\u001b[43mtypes\u001b[49m\u001b[38;5;241;43m.\u001b[39;49m\u001b[43mnumber_domain\u001b[49m\u001b[43m)\u001b[49m\u001b[43m)\u001b[49m\n",
      "\u001b[0;31mImportError\u001b[0m: numpy.core.multiarray failed to import"
     ]
    }
   ],
   "source": [
    "from telegram import Update, ForceReply\n",
    "from telegram.ext import Updater, CommandHandler, MessageHandler, Filters, CallbackContext, ConversationHandler\n",
    "from pycaret.classification import *"
   ]
  },
  {
   "cell_type": "code",
   "execution_count": null,
   "id": "e46e975d",
   "metadata": {},
   "outputs": [],
   "source": [
    "global estado, mapResult"
   ]
  },
  {
   "cell_type": "code",
   "execution_count": 3,
   "id": "f018226b",
   "metadata": {},
   "outputs": [],
   "source": [
    "def sendHello(update: Update, context: CallbackContext): \n",
    "    print(update)\n",
    "    print(\"# # # # \"*5)\n",
    "    print(context)\n",
    "    update.message.reply_text(\"Teste123\")"
   ]
  },
  {
   "cell_type": "code",
   "execution_count": 4,
   "id": "aa875c7e",
   "metadata": {},
   "outputs": [],
   "source": [
    "def resetState():\n",
    "    global estado, mapResult\n",
    "    estado = \"\"\n",
    "    mapResult = {}"
   ]
  },
  {
   "cell_type": "code",
   "execution_count": 5,
   "id": "e1dbd1bc",
   "metadata": {},
   "outputs": [],
   "source": [
    "def convertNumeric( strNum ):\n",
    "    if str(strNum).replace(\",\", \".\").replace(\".\", \"\", 1).isdigit():\n",
    "        return float( strNum.replace(\",\", \".\") )\n",
    "    return None"
   ]
  },
  {
   "cell_type": "code",
   "execution_count": 6,
   "id": "d0c849b5",
   "metadata": {},
   "outputs": [],
   "source": [
    "def startDoctor(update: Update, context: CallbackContext): \n",
    "    global estado\n",
    "    resetState()\n",
    "    \n",
    "    update.message.reply_text(f\"Informe a quantidade de vezes grávida:\")\n",
    "    estado = \"numPreg\""
   ]
  },
  {
   "cell_type": "code",
   "execution_count": 7,
   "id": "4d2f7d2a",
   "metadata": {},
   "outputs": [],
   "source": [
    "def startAllQuestions(update: Update, context: CallbackContext): \n",
    "    global estado\n",
    "    resetState()\n",
    "    \n",
    "    update.message.reply_text(f\"Informe a função de linhagem de diabetes:\")\n",
    "    estado = \"pedigreeF\""
   ]
  },
  {
   "cell_type": "code",
   "execution_count": 8,
   "id": "37c70b55",
   "metadata": {},
   "outputs": [],
   "source": [
    "def messageFunctionMain(update: Update, context: CallbackContext):\n",
    "    global estado, mapResult\n",
    "    \n",
    "    message = update['message']['text']\n",
    "    value = convertNumeric(message)\n",
    "    if estado == \"pedigreeF\":\n",
    "        if value:\n",
    "            mapResult[\"pedigreeF\"] = value\n",
    "            update.message.reply_text(f\"Informe a quantidade de vezes grávida:\")\n",
    "            estado = \"numPreg\"\n",
    "        else:\n",
    "            update.message.reply_text(f\"Função de linhagem de diabetes {message} inválida, informe novamente:\")\n",
    "    \n",
    "    elif estado == \"numPreg\":\n",
    "        if value:\n",
    "            mapResult[\"numPreg\"] = value\n",
    "            update.message.reply_text(f\"Informe a taxa de glicose:\")\n",
    "            estado = \"glic\"            \n",
    "        else:\n",
    "            update.message.reply_text(f\"Quantidade de vezes grávida {message} inválida, informe novamente:\")       \n",
    "        \n",
    "    elif estado == \"glic\":\n",
    "        if value:\n",
    "            mapResult[\"glic\"] = value\n",
    "            update.message.reply_text(f\"Informe a pressão arterial diastólica (mmHg):\")\n",
    "            estado = \"blodp\"            \n",
    "        else:\n",
    "            update.message.reply_text(f\"Taxa de glicose {message} inválida, informe novamente:\")         \n",
    "    \n",
    "    elif estado == \"blodp\":\n",
    "        if value:\n",
    "            mapResult[\"blodp\"] = value\n",
    "            #update.message.reply_text(f\"Informe a espessura da dobra cutânea do tríceps (mm):\")\n",
    "            update.message.reply_text(f\"Informe a função de linhagem de diabetes:\")\n",
    "            estado = \"pedigreeF\" #  skin        \n",
    "        else:            \n",
    "            update.message.reply_text(f\"Pressão arterial diastólica {message} inválida, informe novamente:\")   \n",
    "    \n",
    "    '''\n",
    "    # update.message.reply_text(f\"Informe a função de linhagem de diabetes:\")\n",
    "    # estado = \"pedigreeF\"\n",
    "    elif estado == \"pedigreeF\":\n",
    "        if value:\n",
    "            mapResult[\"pedigreeF\"] = value\n",
    "            update.message.reply_text(f\"Informe a espessura da dobra cutânea do tríceps (mm):\")\n",
    "            estado = \"skin\"            \n",
    "        else:\n",
    "            update.message.reply_text(f\"Função de linhagem {message} inválida, informe novamente:\") \n",
    "    '''\n",
    "    \n",
    "    elif estado == \"skin\":\n",
    "        if value:\n",
    "            mapResult[\"skin\"] = value\n",
    "            update.message.reply_text(f\"Informe o valor da insulina:\")\n",
    "            estado = \"insulin\"            \n",
    "        else:\n",
    "            update.message.reply_text(f\"Espessura de pele {message} inválida, informe novamente:\")\n",
    "                \n",
    "        \n",
    "    elif estado == \"insulin\":\n",
    "        if value:\n",
    "            mapResult[\"insulin\"] = value\n",
    "            update.message.reply_text(f\"Informe o índice de massa corporal:\")\n",
    "            estado = \"imc\"            \n",
    "        else:\n",
    "            update.message.reply_text(f\"Valor de insulina {message} inválida, informe novamente:\")         \n",
    "    \n",
    "    elif estado == \"imc\":\n",
    "        if value:\n",
    "            mapResult[\"imc\"] = value\n",
    "            update.message.reply_text(f\"Informe a idade:\")\n",
    "            estado = \"age\"            \n",
    "        else:\n",
    "            update.message.reply_text(f\"Valor de insulina {message} inválida, informe novamente:\") \n",
    "        \n",
    "    elif estado == \"age\":\n",
    "        if value:\n",
    "            mapResult[\"age\"] = value\n",
    "            update.message.reply_text(f\"Resultado: {mapResult}\")\n",
    "            estado = \"\"            \n",
    "        else:\n",
    "            update.message.reply_text(f\"Valor da idade {message} inválida, informe novamente:\")\n",
    "    \n",
    "    elif estado == \"\":\n",
    "        update.message.reply_text(f\"Estado resetado.\")"
   ]
  },
  {
   "cell_type": "code",
   "execution_count": 9,
   "id": "0063053a",
   "metadata": {},
   "outputs": [],
   "source": [
    "'''\n",
    "COMANDOS CADASTRADOS NÃO SÃO INTERPRETADOS COMO TEXTO\n",
    "    MAS COMANDOS NÃO CADASTRADOS ATIVAM O MANIPULADOR DE TEXTO\n",
    "''';"
   ]
  },
  {
   "cell_type": "code",
   "execution_count": 10,
   "id": "a67d64d8",
   "metadata": {},
   "outputs": [],
   "source": [
    "estado = \"\"\n",
    "mapResult = {}"
   ]
  },
  {
   "cell_type": "code",
   "execution_count": 11,
   "id": "6c70e3ae",
   "metadata": {},
   "outputs": [
    {
     "name": "stdout",
     "output_type": "stream",
     "text": [
      "Bot Iniciado\n"
     ]
    }
   ],
   "source": [
    "TOKEN = \"5579725859:AAHJrLmRHiHc1M5SkBPxif8dHShRgYqYUGs\"\n",
    "bot = Updater(TOKEN)\n",
    "\n",
    "#MANIPULADOR DE ROTAS\n",
    "dispatcher = bot.dispatcher\n",
    "\n",
    "#ADICIONA ROTAS\n",
    "dispatcher.add_handler(CommandHandler(\"send\", sendHello))\n",
    "dispatcher.add_handler(CommandHandler(\"start\", startDoctor))\n",
    "dispatcher.add_handler(CommandHandler(\"startAll\", startAllQuestions))\n",
    "dispatcher.add_handler(MessageHandler( Filters.text, messageFunctionMain))\n",
    "\n",
    "#INICIA O BOT\n",
    "bot.start_polling()\n",
    "print(\"Bot Iniciado\")\n",
    "\n",
    "#PERMITE CANCELAR O BOT\n",
    "bot.idle()"
   ]
  },
  {
   "cell_type": "code",
   "execution_count": null,
   "id": "e07b4331",
   "metadata": {},
   "outputs": [],
   "source": []
  },
  {
   "cell_type": "code",
   "execution_count": null,
   "id": "1902dd9d",
   "metadata": {},
   "outputs": [],
   "source": []
  },
  {
   "cell_type": "code",
   "execution_count": 9,
   "id": "937f6b0b",
   "metadata": {},
   "outputs": [],
   "source": [
    "import pandas as pd"
   ]
  },
  {
   "cell_type": "code",
   "execution_count": 15,
   "id": "f7571d1e",
   "metadata": {},
   "outputs": [
    {
     "data": {
      "text/plain": [
       "(198, 24.75)"
      ]
     },
     "execution_count": 15,
     "metadata": {},
     "output_type": "execute_result"
    }
   ],
   "source": [
    "l = [32,2,2,8,2,2,1,2,4,4,8,8,4,1,32,16,4,4,4,4,2,2,8,2,4,2,2,8,4,4,4,4,4,4]\n",
    "sum(l), sum(l)/8 "
   ]
  },
  {
   "cell_type": "code",
   "execution_count": 10,
   "id": "07f27b60",
   "metadata": {},
   "outputs": [
    {
     "data": {
      "text/plain": [
       "4     14\n",
       "2     10\n",
       "8      5\n",
       "32     2\n",
       "1      2\n",
       "16     1\n",
       "dtype: int64"
      ]
     },
     "execution_count": 10,
     "metadata": {},
     "output_type": "execute_result"
    }
   ],
   "source": [
    "pd.Series(l).value_counts()"
   ]
  },
  {
   "cell_type": "code",
   "execution_count": 13,
   "id": "d7fca9a0",
   "metadata": {},
   "outputs": [
    {
     "data": {
      "text/plain": [
       "40.0"
      ]
     },
     "execution_count": 13,
     "metadata": {},
     "output_type": "execute_result"
    }
   ],
   "source": [
    "25*1.6"
   ]
  },
  {
   "cell_type": "markdown",
   "id": "98804ee4",
   "metadata": {},
   "source": [
    "# EXEMPLO MAP PEGUE MSG"
   ]
  },
  {
   "cell_type": "code",
   "execution_count": 24,
   "id": "db975824",
   "metadata": {},
   "outputs": [],
   "source": [
    "up = {'update_id': 140445672, 'message': {'message_id': 24, 'delete_chat_photo': False, 'chat': {'last_name': 'Correia', 'id': 1022021295, 'type': 'private', 'first_name': 'Flávio'}, 'entities': [], 'new_chat_photo': [], 'date': 1660747354, 'supergroup_chat_created': False, 'photo': [], 'new_chat_members': [], 'group_chat_created': False, 'text': 'Senhaqwe', 'caption_entities': [], 'channel_chat_created': False, 'from': {'is_bot': False, 'language_code': 'pt-br', 'last_name': 'Correia', 'first_name': 'Flávio', 'id': 1022021295}}}"
   ]
  },
  {
   "cell_type": "code",
   "execution_count": 8,
   "id": "4bee6e74",
   "metadata": {},
   "outputs": [],
   "source": [
    "update = {'message': {'delete_chat_photo': False, 'group_chat_created': False, 'text': '/send', 'new_chat_members': [], 'chat': {'type': 'private', 'first_name': 'Flávio', 'last_name': 'Correia', 'id': 1022021295}, 'message_id': 12, 'caption_entities': [], 'channel_chat_created': False, 'new_chat_photo': [], 'photo': [], 'entities': [{'length': 5, 'offset': 0, 'type': 'bot_command'}], 'date': 1660260499, 'supergroup_chat_created': False, 'from': {'first_name': 'Flávio', 'last_name': 'Correia', 'language_code': 'en', 'is_bot': False, 'id': 1022021295}}, 'update_id': 140445663}"
   ]
  },
  {
   "cell_type": "code",
   "execution_count": null,
   "id": "d1ab94a0",
   "metadata": {},
   "outputs": [],
   "source": [
    "##testeBotMain.py\n",
    "from telegram import Update, ForceReply\n",
    "from telegram.ext import Updater, CommandHandler, MessageHandler, Filters, CallbackContext\n",
    "from botFunctions import *\n",
    "\n",
    "TOKEN = \"5321007840:AAEKo1UpT4fosWtyOabU5unKfqz2YRRNCQ0\"\n",
    "bot = Updater(TOKEN)\n",
    "\n",
    "#MANIPULADOR DE ROTAS\n",
    "dispatcher = bot.dispatcher\n",
    "\n",
    "#ADICIONA ROTAS\n",
    "dispatcher.add_handler(CommandHandler(\"start\", start))\n",
    "dispatcher.add_handler(CommandHandler(\"teste1\", teste1))\n",
    "dispatcher.add_handler(CommandHandler(\"teste2\", teste2))\n",
    "dispatcher.add_handler(CommandHandler(\"gerarexcel\", sendXLSXFile))\n",
    "dispatcher.add_handler(MessageHandler(Filters.document, downloadFile))\n",
    "dispatcher.add_handler(MessageHandler(Filters.photo, detectFaceImage))\n",
    "\n",
    "\n",
    "#INICIA O BOT\n",
    "print(\"Bot Iniciado\")\n",
    "bot.start_polling()\n",
    "\n",
    "#PERMITE CANCELAR O BOT\n",
    "bot.idle()\n",
    "\n",
    "'''\n",
    "dispatcher.add_handler(MessageHandler(Filters.group, self._group_hook()))\n",
    "dispatcher.add_handler(MessageHandler(Filters.text, self._msg_hook(TextMessageEvent)))\n",
    "dispatcher.add_handler(MessageHandler(Filters.photo, self._msg_hook(PhotoMessageEvent)))\n",
    "dispatcher.add_handler(MessageHandler(Filters.video, self._msg_hook(VideoMessageEvent)))\n",
    "dispatcher.add_handler(MessageHandler(Filters.contact, self._msg_hook(ContactMessageEvent)))\n",
    "dispatcher.add_handler(MessageHandler(Filters.location, self._msg_hook(LocationMessageEvent)))\n",
    "dispatcher.add_handler(MessageHandler(Filters.document, self._msg_hook(DocumentMessageEvent)))\n",
    "dispatcher.add_handler(MessageHandler(Filters.command, self._command_hook()))\n",
    "'''\n"
   ]
  },
  {
   "cell_type": "code",
   "execution_count": null,
   "id": "8b1773e3",
   "metadata": {},
   "outputs": [],
   "source": [
    "## botFunctions.py\n",
    "#C:\\\\Users\\\\FL20310106\\\\AppData\\\\Local\\\\Continuum\\\\anaconda3\\\\envs\\\\pydev\n",
    "#C:\\Users\\FL20310106\\AppData\\Local\\Continuum\\anaconda3\\envs\\pyDev\n",
    "from telegram import Update, ForceReply\n",
    "from telegram.ext import Updater, CommandHandler, MessageHandler, Filters, CallbackContext\n",
    "from folderManagement import *\n",
    "from botPandas import *\n",
    "from botMachineLearning import *\n",
    "#update.message.reply_text(\"MENSAGEM\")\n",
    "\n",
    "id_image = 0\n",
    "\n",
    "#MSG QUANDO BOT É INICIADO\n",
    "def start(update: Update, context: CallbackContext):\n",
    "    update.message.reply_text(\"Você acionou start\")\n",
    "\n",
    "\n",
    "def detectFaceImage(update: Update, context: CallbackContext):    \n",
    "    global id_image\n",
    "    update.message.reply_text(\"Imagem recebida para detecção.\")\n",
    "    file = update.message.photo[-1].get_file()\n",
    "    chatId = update.message.chat.id\n",
    "\n",
    "    pathImage = f\"faceDetection//{chatId}_image.jpg\"\n",
    "    pathImage = f\"faceDetection//{chatId}_image_{id_image}.jpg\"\n",
    "    removeFile(pathImage)\n",
    "    file.download(pathImage)\n",
    "\n",
    "    statusDetection = detectFaceCv2( pathImage )\n",
    "    if statusDetection == \"-1\": # nao detectou faces\n",
    "        update.message.reply_text(\"Não foram detectadas faces.\")\n",
    "    else: # detectou faces\n",
    "        update.message.reply_text(\"Foram detectados rostos.\")\n",
    "        context.bot.send_photo(chat_id=update.message.chat.id, photo=open(statusDetection, 'rb'))\n",
    "        \n",
    "    id_image +=1\n",
    "\n",
    "def downloadFile(update: Update, context: CallbackContext):  \n",
    "    file = update.message.document\n",
    "    extensao = file.file_name.split(\".\")[-1]\n",
    "    if extensao in [\"csv\", \"xlsx\", \"xls\"]:\n",
    "        update.message.reply_text(\"Arquivo recebido\")\n",
    "        clearFolder(\"downloads\")\n",
    "\n",
    "        #FAZ DOWNLOAD DO ARQUIVO\n",
    "        with open(\"downloads/\"+file.file_name, 'wb') as f:\n",
    "            context.bot.get_file(update.message.document).download(out=f)\n",
    "        \n",
    "        if extensao in [\"xlsx\", \"xls\"]:\n",
    "            update.message.reply_text(\"Excel\")\n",
    "            describeDataFrame( pd.read_excel(\"downloads/\"+file.file_name) )\n",
    "        elif extensao in [\"csv\"]:\n",
    "            update.message.reply_text(\"CSV\")\n",
    "            describeDataFrame( pd.read_csv(\"downloads/\"+file.file_name, sep=\";\") )\n",
    "        \n",
    "        update.message.reply_text(\"Enviando resumo\")\n",
    "        #ENVIA IMAGEM PARA O USUARIO\n",
    "        context.bot.send_photo(chat_id=update.message.chat.id, photo=open('created_files/df.png', 'rb'))\n",
    "    else:\n",
    "        update.message.reply_text(\"Tipo de arquivo não suportado.\")\n",
    "\n",
    "def sendXLSXFile(update: Update, context: CallbackContext): \n",
    "    context.bot.sendDocument(\n",
    "        chat_id=update.message.chat.id, \n",
    "        caption =\"Arquivo excel do relatório.\", \n",
    "        document=open(\"created_files/df.xlsx\", 'rb'))\n",
    "\n",
    "def teste1(update: Update, context: CallbackContext):\n",
    "    print(update)\n",
    "    print(\"- - - - - \"*5)\n",
    "    print(context)\n",
    "    update.message.reply_text('Olá')\n",
    "\n",
    "def teste2(update: Update, context: CallbackContext):\n",
    "    user = update.effective_user\n",
    "    update.message.reply_markdown_v2(\n",
    "        f'Olá {user.mention_markdown_v2()}', reply_markup=ForceReply(selective=True),\n",
    "    )\n",
    "\n",
    "\n",
    "\n",
    "'''\n",
    "ENVIAR DOCUMENTO PELO TELEGRAM\n",
    "def send_document(update, context):\n",
    "    chat_id = update.message.chat_id\n",
    "    document = open('image1.png', 'rb')\n",
    "    context.bot.send_document(chat_id, document)\n",
    "\n",
    "dispatcher.add_handler(CommandHandler(\"send\", send_document))\n",
    "'''"
   ]
  },
  {
   "cell_type": "code",
   "execution_count": null,
   "id": "b617cc97",
   "metadata": {},
   "outputs": [],
   "source": [
    "## botMachineLearning.py\n",
    "import cv2\n",
    "import matplotlib.pyplot as plt\n",
    "\n",
    "#more weights\n",
    "#https://github.com/opencv/opencv/tree/master/data/haarcascades\n",
    "cv2FaceDetector = cv2.CascadeClassifier(\"haarcascade_frontalface_default.xml\")\n",
    "\n",
    "def detectFaceCv2( imagePath ):\n",
    "    #img = cv2.cvtColor( cv2.imread( imagePath ), cv2.COLOR_BGR2RGB)\n",
    "    img = cv2.imread( imagePath )\n",
    "    img_gray = cv2.imread(imagePath, 0)\n",
    "\n",
    "    faces = cv2FaceDetector.detectMultiScale(img_gray)\n",
    "\n",
    "    if len(faces) > 0:\n",
    "        for x, y, width, height in faces:\n",
    "            cv2.rectangle(img, (x, y), (x + width, y + height), color=(255, 0, 0), thickness=2)\n",
    "\n",
    "        imagePathDetected = imagePath.split(\".\")[0]+\"_faces.jpg\"\n",
    "        cv2.imwrite(imagePathDetected, img);\n",
    "        return imagePathDetected\n",
    "    else:\n",
    "        return \"-1\"\n"
   ]
  },
  {
   "cell_type": "code",
   "execution_count": null,
   "id": "423a9516",
   "metadata": {},
   "outputs": [],
   "source": [
    "## botPandas\n",
    "import pandas as pd\n",
    "import dataframe_image as dfi\n",
    "\n",
    "def describeDataFrame( df:pd.DataFrame ):\n",
    "    #return df.describe(exclude=[object]) \n",
    "    #return df.describe(include=\"all\")\n",
    "    df_final = df.describe(include=\"all\").round(2).fillna(0)\n",
    "    df_final = df_final.loc[ [\"count\", \"unique\", \"mean\", \"std\", \"min\", \"25%\", \"50%\", \"75%\", \"max\"] ,:]\n",
    "    dfi.export( df_final, \"created_files/df.png\" )\n",
    "    df_final.to_excel( \"created_files/df.xlsx\" )\n",
    "    return df_final"
   ]
  },
  {
   "cell_type": "code",
   "execution_count": null,
   "id": "d6cc7614",
   "metadata": {},
   "outputs": [],
   "source": [
    "## folderManagement\n",
    "import os\n",
    "\n",
    "def clearFolder( folderName:str ):\n",
    "    listFiles = os.listdir( folderName )\n",
    "    for file in listFiles:\n",
    "        os.remove(folderName+\"/\"+file)\n",
    "\n",
    "def removeFile( fileName:str , path:str=\"./\"):\n",
    "    listFiles = os.listdir( path )    \n",
    "    if fileName in listFiles:\n",
    "        os.remove(path+\"/\"+fileName)\n"
   ]
  },
  {
   "cell_type": "code",
   "execution_count": null,
   "id": "58f2a0b5",
   "metadata": {},
   "outputs": [],
   "source": [
    "- Camila do Rocio Nardin - Legal\n",
    "- Claudia Bravo Quezada - +-"
   ]
  }
 ],
 "metadata": {
  "kernelspec": {
   "display_name": "Python 3 (ipykernel)",
   "language": "python",
   "name": "python3"
  },
  "language_info": {
   "codemirror_mode": {
    "name": "ipython",
    "version": 3
   },
   "file_extension": ".py",
   "mimetype": "text/x-python",
   "name": "python",
   "nbconvert_exporter": "python",
   "pygments_lexer": "ipython3",
   "version": "3.8.13"
  }
 },
 "nbformat": 4,
 "nbformat_minor": 5
}
