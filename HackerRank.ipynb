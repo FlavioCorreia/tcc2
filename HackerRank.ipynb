{
 "cells": [
  {
   "cell_type": "markdown",
   "id": "c4912d26",
   "metadata": {},
   "source": [
    "###  Bot saves princess"
   ]
  },
  {
   "cell_type": "code",
   "execution_count": 3,
   "id": "d7794f70",
   "metadata": {},
   "outputs": [],
   "source": [
    "n=3"
   ]
  },
  {
   "cell_type": "code",
   "execution_count": 4,
   "id": "144019a0",
   "metadata": {},
   "outputs": [
    {
     "data": {
      "text/plain": [
       "['---', '-m-', 'p--']"
      ]
     },
     "execution_count": 4,
     "metadata": {},
     "output_type": "execute_result"
    }
   ],
   "source": [
    "grid = '''---\n",
    "-m-\n",
    "p--'''.split(\"\\n\")\n",
    "grid"
   ]
  },
  {
   "cell_type": "code",
   "execution_count": 5,
   "id": "f2f52de2",
   "metadata": {},
   "outputs": [],
   "source": [
    "def displayPathtoPrincess(n,grid):\n",
    "    p = n//2\n",
    "    ii,jj = 0,0\n",
    "    for i in range(n): # UP or DOWN\n",
    "        for j in range(n): # LEFT or RIGHT\n",
    "            if grid[i][j] == 'p':\n",
    "                ii,jj = i,j\n",
    "                break\n",
    "              \n",
    "    h,v = False,False\n",
    "    if p > ii:\n",
    "        h = 'UP'\n",
    "    else:\n",
    "        h = 'DOWN'\n",
    "    \n",
    "    if p >jj:\n",
    "        v = 'LEFT'\n",
    "    else:\n",
    "        v = 'RIGHT'\n",
    "    \n",
    "    if h:\n",
    "        for i in range( abs(ii-p) ):\n",
    "            print(h)\n",
    "    if v:\n",
    "        for i in range( abs(jj-p) ):\n",
    "            print(v)  "
   ]
  },
  {
   "cell_type": "code",
   "execution_count": 6,
   "id": "b56b2537",
   "metadata": {},
   "outputs": [
    {
     "name": "stdout",
     "output_type": "stream",
     "text": [
      "DOWN\n",
      "LEFT\n"
     ]
    }
   ],
   "source": [
    "displayPathtoPrincess(n,grid)"
   ]
  },
  {
   "cell_type": "markdown",
   "id": "512d75ae",
   "metadata": {},
   "source": [
    "#### Médio "
   ]
  },
  {
   "cell_type": "code",
   "execution_count": 7,
   "id": "3393251e",
   "metadata": {},
   "outputs": [],
   "source": [
    "def caminha( i, j, m, grid, caminho ):\n",
    "    #print(f\"{i}x{j} = {grid[i][j]}\")\n",
    "    if j >= m or i >= m:\n",
    "        pass\n",
    "        #return False\n",
    "    elif j < 0 or i < 0:\n",
    "        pass\n",
    "        #return False\n",
    "    elif grid[i][j] == 'X':\n",
    "        pass\n",
    "    elif grid[i][j] == '-' or grid[i][j] == 'm':\n",
    "        grid[i] = grid[i][:j]+'X'+grid[i][j+1:]\n",
    "        #pass\n",
    "        caminha( i-1, j, m, grid, caminho+'UP\\n' )\n",
    "        caminha( i+1, j, m, grid, caminho+'DOWN\\n' )\n",
    "        caminha( i, j+1, m, grid, caminho+'RIGHT\\n' )\n",
    "        caminha( i, j-1, m, grid, caminho+'LEFT\\n' )\n",
    "    elif grid[i][j] == 'p':\n",
    "        print(caminho[:-1])\n",
    "        print(\"* \" *10)\n",
    "    #else:\n",
    "        "
   ]
  },
  {
   "cell_type": "code",
   "execution_count": 9,
   "id": "7d567ce3",
   "metadata": {
    "scrolled": true
   },
   "outputs": [
    {
     "name": "stdout",
     "output_type": "stream",
     "text": [
      "DOWN\n",
      "DOWN\n",
      "* * * * * * * * * * \n",
      "DOWN\n",
      "RIGHT\n",
      "UP\n",
      "RIGHT\n",
      "DOWN\n",
      "DOWN\n",
      "LEFT\n",
      "LEFT\n",
      "* * * * * * * * * * \n"
     ]
    }
   ],
   "source": [
    "caminha( 0, 0, 3, grid.copy(), \"\" )"
   ]
  },
  {
   "cell_type": "markdown",
   "id": "c432dadb",
   "metadata": {},
   "source": [
    "###  Bot saves princess 2"
   ]
  },
  {
   "cell_type": "code",
   "execution_count": 66,
   "id": "c599a8bf",
   "metadata": {},
   "outputs": [],
   "source": [
    "def nextMove(n,r,c,grid):\n",
    "    ii,jj= 0,0\n",
    "    for i in range(n):\n",
    "        for j in range(n):\n",
    "            if grid[i][j] == 'p':\n",
    "                ii,jj = i,j\n",
    "                break\n",
    "    h = ''                \n",
    "    if r < ii:\n",
    "        h = 'DOWN'\n",
    "    elif r > ii:\n",
    "        h = 'UP'    \n",
    "    elif c > jj:\n",
    "        h = 'LEFT'\n",
    "    else:\n",
    "        h = 'RIGHT'\n",
    "    \n",
    "    return h"
   ]
  },
  {
   "cell_type": "code",
   "execution_count": 45,
   "id": "9470ec19",
   "metadata": {},
   "outputs": [],
   "source": [
    "grid = [\n",
    "'-----',\n",
    "'-----',\n",
    "'p-m--',\n",
    "'-----',\n",
    "'-----']"
   ]
  },
  {
   "cell_type": "code",
   "execution_count": 70,
   "id": "4657513b",
   "metadata": {},
   "outputs": [],
   "source": [
    "n = 5\n",
    "r,c = 3, 2\n",
    "grid = [\n",
    "'-----',\n",
    "'-----',\n",
    "'-----',\n",
    "'p-m--',\n",
    "'-----'\n",
    "]"
   ]
  },
  {
   "cell_type": "code",
   "execution_count": 56,
   "id": "eaadbcae",
   "metadata": {},
   "outputs": [],
   "source": [
    "n = 5\n",
    "r,c = 2, 0\n",
    "grid = [\n",
    "'-----',\n",
    "'-----',\n",
    "'p-m--',\n",
    "'-----',\n",
    "'-----']"
   ]
  },
  {
   "cell_type": "code",
   "execution_count": 71,
   "id": "0ba3e9f5",
   "metadata": {},
   "outputs": [
    {
     "name": "stdout",
     "output_type": "stream",
     "text": [
      "LEFT\n"
     ]
    }
   ],
   "source": [
    "print(nextMove(n,r,c,grid))"
   ]
  },
  {
   "cell_type": "markdown",
   "id": "dfecf4cb",
   "metadata": {},
   "source": [
    "### Maze Escape "
   ]
  },
  {
   "cell_type": "code",
   "execution_count": null,
   "id": "8d39bac6",
   "metadata": {},
   "outputs": [],
   "source": []
  },
  {
   "cell_type": "code",
   "execution_count": 81,
   "id": "4ff06aa3",
   "metadata": {},
   "outputs": [
    {
     "data": {
      "text/plain": [
       "863.8631951951481"
      ]
     },
     "execution_count": 81,
     "metadata": {},
     "output_type": "execute_result"
    }
   ],
   "source": [
    "2**(9.91)-(9.91)**2"
   ]
  },
  {
   "cell_type": "markdown",
   "id": "977fed1a",
   "metadata": {},
   "source": [
    "### Battleship"
   ]
  },
  {
   "cell_type": "code",
   "execution_count": null,
   "id": "f61a1c75",
   "metadata": {},
   "outputs": [],
   "source": []
  },
  {
   "cell_type": "code",
   "execution_count": null,
   "id": "99f37be7",
   "metadata": {},
   "outputs": [],
   "source": [
    "def "
   ]
  }
 ],
 "metadata": {
  "kernelspec": {
   "display_name": "Python 3 (ipykernel)",
   "language": "python",
   "name": "python3"
  },
  "language_info": {
   "codemirror_mode": {
    "name": "ipython",
    "version": 3
   },
   "file_extension": ".py",
   "mimetype": "text/x-python",
   "name": "python",
   "nbconvert_exporter": "python",
   "pygments_lexer": "ipython3",
   "version": "3.7.9"
  }
 },
 "nbformat": 4,
 "nbformat_minor": 5
}
