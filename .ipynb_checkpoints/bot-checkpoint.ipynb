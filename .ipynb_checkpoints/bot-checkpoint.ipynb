{
 "cells": [
  {
   "cell_type": "code",
   "execution_count": null,
   "id": "2b274aab",
   "metadata": {},
   "outputs": [],
   "source": [
    "from telegram import Update, ForceReply\n",
    "from telegram.ext import Updater, CommandHandler, MessageHandler, Filters, CallbackContext, ConversationHandler\n",
    "from pycaret.classification import *"
   ]
  },
  {
   "cell_type": "code",
   "execution_count": null,
   "id": "e46e975d",
   "metadata": {},
   "outputs": [],
   "source": [
    "global estado, mapResult"
   ]
  },
  {
   "cell_type": "code",
   "execution_count": 3,
   "id": "f018226b",
   "metadata": {},
   "outputs": [],
   "source": [
    "def sendHello(update: Update, context: CallbackContext): \n",
    "    print(update)\n",
    "    print(\"# # # # \"*5)\n",
    "    print(context)\n",
    "    update.message.reply_text(\"Teste123\")"
   ]
  },
  {
   "cell_type": "code",
   "execution_count": 4,
   "id": "aa875c7e",
   "metadata": {},
   "outputs": [],
   "source": [
    "def resetState():\n",
    "    global estado, mapResult\n",
    "    estado = \"\"\n",
    "    mapResult = {}"
   ]
  },
  {
   "cell_type": "code",
   "execution_count": 5,
   "id": "e1dbd1bc",
   "metadata": {},
   "outputs": [],
   "source": [
    "def convertNumeric( strNum ):\n",
    "    if str(strNum).replace(\",\", \".\").replace(\".\", \"\", 1).isdigit():\n",
    "        return float( strNum.replace(\",\", \".\") )\n",
    "    return None"
   ]
  },
  {
   "cell_type": "code",
   "execution_count": 6,
   "id": "d0c849b5",
   "metadata": {},
   "outputs": [],
   "source": [
    "def startDoctor(update: Update, context: CallbackContext): \n",
    "    global estado\n",
    "    resetState()\n",
    "    \n",
    "    update.message.reply_text(f\"Informe a quantidade de vezes grávida:\")\n",
    "    estado = \"numPreg\""
   ]
  },
  {
   "cell_type": "code",
   "execution_count": 7,
   "id": "4d2f7d2a",
   "metadata": {},
   "outputs": [],
   "source": [
    "def startAllQuestions(update: Update, context: CallbackContext): \n",
    "    global estado\n",
    "    resetState()\n",
    "    \n",
    "    update.message.reply_text(f\"Informe a função de linhagem de diabetes:\")\n",
    "    estado = \"pedigreeF\""
   ]
  },
  {
   "cell_type": "code",
   "execution_count": 8,
   "id": "37c70b55",
   "metadata": {},
   "outputs": [],
   "source": [
    "def messageFunctionMain(update: Update, context: CallbackContext):\n",
    "    global estado, mapResult\n",
    "    \n",
    "    message = update['message']['text']\n",
    "    value = convertNumeric(message)\n",
    "    if estado == \"pedigreeF\":\n",
    "        if value:\n",
    "            mapResult[\"pedigreeF\"] = value\n",
    "            update.message.reply_text(f\"Informe a quantidade de vezes grávida:\")\n",
    "            estado = \"numPreg\"\n",
    "        else:\n",
    "            update.message.reply_text(f\"Função de linhagem de diabetes {message} inválida, informe novamente:\")\n",
    "    \n",
    "    elif estado == \"numPreg\":\n",
    "        if value:\n",
    "            mapResult[\"numPreg\"] = value\n",
    "            update.message.reply_text(f\"Informe a taxa de glicose:\")\n",
    "            estado = \"glic\"            \n",
    "        else:\n",
    "            update.message.reply_text(f\"Quantidade de vezes grávida {message} inválida, informe novamente:\")       \n",
    "        \n",
    "    elif estado == \"glic\":\n",
    "        if value:\n",
    "            mapResult[\"glic\"] = value\n",
    "            update.message.reply_text(f\"Informe a pressão arterial diastólica (mmHg):\")\n",
    "            estado = \"blodp\"            \n",
    "        else:\n",
    "            update.message.reply_text(f\"Taxa de glicose {message} inválida, informe novamente:\")         \n",
    "    \n",
    "    elif estado == \"blodp\":\n",
    "        if value:\n",
    "            mapResult[\"blodp\"] = value\n",
    "            #update.message.reply_text(f\"Informe a espessura da dobra cutânea do tríceps (mm):\")\n",
    "            update.message.reply_text(f\"Informe a função de linhagem de diabetes:\")\n",
    "            estado = \"pedigreeF\" #  skin        \n",
    "        else:            \n",
    "            update.message.reply_text(f\"Pressão arterial diastólica {message} inválida, informe novamente:\")   \n",
    "    \n",
    "    '''\n",
    "    # update.message.reply_text(f\"Informe a função de linhagem de diabetes:\")\n",
    "    # estado = \"pedigreeF\"\n",
    "    elif estado == \"pedigreeF\":\n",
    "        if value:\n",
    "            mapResult[\"pedigreeF\"] = value\n",
    "            update.message.reply_text(f\"Informe a espessura da dobra cutânea do tríceps (mm):\")\n",
    "            estado = \"skin\"            \n",
    "        else:\n",
    "            update.message.reply_text(f\"Função de linhagem {message} inválida, informe novamente:\") \n",
    "    '''\n",
    "    \n",
    "    elif estado == \"skin\":\n",
    "        if value:\n",
    "            mapResult[\"skin\"] = value\n",
    "            update.message.reply_text(f\"Informe o valor da insulina:\")\n",
    "            estado = \"insulin\"            \n",
    "        else:\n",
    "            update.message.reply_text(f\"Espessura de pele {message} inválida, informe novamente:\")\n",
    "                \n",
    "        \n",
    "    elif estado == \"insulin\":\n",
    "        if value:\n",
    "            mapResult[\"insulin\"] = value\n",
    "            update.message.reply_text(f\"Informe o índice de massa corporal:\")\n",
    "            estado = \"imc\"            \n",
    "        else:\n",
    "            update.message.reply_text(f\"Valor de insulina {message} inválida, informe novamente:\")         \n",
    "    \n",
    "    elif estado == \"imc\":\n",
    "        if value:\n",
    "            mapResult[\"imc\"] = value\n",
    "            update.message.reply_text(f\"Informe a idade:\")\n",
    "            estado = \"age\"            \n",
    "        else:\n",
    "            update.message.reply_text(f\"Valor de insulina {message} inválida, informe novamente:\") \n",
    "        \n",
    "    elif estado == \"age\":\n",
    "        if value:\n",
    "            mapResult[\"age\"] = value\n",
    "            update.message.reply_text(f\"Resultado: {mapResult}\")\n",
    "            estado = \"\"            \n",
    "        else:\n",
    "            update.message.reply_text(f\"Valor da idade {message} inválida, informe novamente:\")\n",
    "    \n",
    "    elif estado == \"\":\n",
    "        update.message.reply_text(f\"Estado resetado.\")"
   ]
  },
  {
   "cell_type": "code",
   "execution_count": 9,
   "id": "0063053a",
   "metadata": {},
   "outputs": [],
   "source": [
    "'''\n",
    "COMANDOS CADASTRADOS NÃO SÃO INTERPRETADOS COMO TEXTO\n",
    "    MAS COMANDOS NÃO CADASTRADOS ATIVAM O MANIPULADOR DE TEXTO\n",
    "''';"
   ]
  },
  {
   "cell_type": "code",
   "execution_count": 10,
   "id": "a67d64d8",
   "metadata": {},
   "outputs": [],
   "source": [
    "estado = \"\"\n",
    "mapResult = {}"
   ]
  },
  {
   "cell_type": "code",
   "execution_count": 11,
   "id": "6c70e3ae",
   "metadata": {},
   "outputs": [
    {
     "name": "stdout",
     "output_type": "stream",
     "text": [
      "Bot Iniciado\n"
     ]
    }
   ],
   "source": [
    "TOKEN = \"5579725859:AAHJrLmRHiHc1M5SkBPxif8dHShRgYqYUGs\"\n",
    "bot = Updater(TOKEN)\n",
    "\n",
    "#MANIPULADOR DE ROTAS\n",
    "dispatcher = bot.dispatcher\n",
    "\n",
    "#ADICIONA ROTAS\n",
    "dispatcher.add_handler(CommandHandler(\"send\", sendHello))\n",
    "dispatcher.add_handler(CommandHandler(\"start\", startDoctor))\n",
    "dispatcher.add_handler(CommandHandler(\"startAll\", startAllQuestions))\n",
    "dispatcher.add_handler(MessageHandler( Filters.text, messageFunctionMain))\n",
    "\n",
    "#INICIA O BOT\n",
    "bot.start_polling()\n",
    "print(\"Bot Iniciado\")\n",
    "\n",
    "#PERMITE CANCELAR O BOT\n",
    "bot.idle()"
   ]
  },
  {
   "cell_type": "code",
   "execution_count": null,
   "id": "e07b4331",
   "metadata": {},
   "outputs": [],
   "source": []
  },
  {
   "cell_type": "code",
   "execution_count": null,
   "id": "1902dd9d",
   "metadata": {},
   "outputs": [],
   "source": []
  },
  {
   "cell_type": "code",
   "execution_count": 9,
   "id": "937f6b0b",
   "metadata": {},
   "outputs": [],
   "source": [
    "import pandas as pd"
   ]
  },
  {
   "cell_type": "code",
   "execution_count": 15,
   "id": "f7571d1e",
   "metadata": {},
   "outputs": [
    {
     "data": {
      "text/plain": [
       "(198, 24.75)"
      ]
     },
     "execution_count": 15,
     "metadata": {},
     "output_type": "execute_result"
    }
   ],
   "source": [
    "l = [32,2,2,8,2,2,1,2,4,4,8,8,4,1,32,16,4,4,4,4,2,2,8,2,4,2,2,8,4,4,4,4,4,4]\n",
    "sum(l), sum(l)/8 "
   ]
  },
  {
   "cell_type": "code",
   "execution_count": 10,
   "id": "07f27b60",
   "metadata": {},
   "outputs": [
    {
     "data": {
      "text/plain": [
       "4     14\n",
       "2     10\n",
       "8      5\n",
       "32     2\n",
       "1      2\n",
       "16     1\n",
       "dtype: int64"
      ]
     },
     "execution_count": 10,
     "metadata": {},
     "output_type": "execute_result"
    }
   ],
   "source": [
    "pd.Series(l).value_counts()"
   ]
  },
  {
   "cell_type": "code",
   "execution_count": 13,
   "id": "d7fca9a0",
   "metadata": {},
   "outputs": [
    {
     "data": {
      "text/plain": [
       "40.0"
      ]
     },
     "execution_count": 13,
     "metadata": {},
     "output_type": "execute_result"
    }
   ],
   "source": [
    "25*1.6"
   ]
  },
  {
   "cell_type": "markdown",
   "id": "98804ee4",
   "metadata": {},
   "source": [
    "# EXEMPLO MAP PEGUE MSG"
   ]
  },
  {
   "cell_type": "code",
   "execution_count": 24,
   "id": "db975824",
   "metadata": {},
   "outputs": [],
   "source": [
    "up = {'update_id': 140445672, 'message': {'message_id': 24, 'delete_chat_photo': False, 'chat': {'last_name': 'Correia', 'id': 1022021295, 'type': 'private', 'first_name': 'Flávio'}, 'entities': [], 'new_chat_photo': [], 'date': 1660747354, 'supergroup_chat_created': False, 'photo': [], 'new_chat_members': [], 'group_chat_created': False, 'text': 'Senhaqwe', 'caption_entities': [], 'channel_chat_created': False, 'from': {'is_bot': False, 'language_code': 'pt-br', 'last_name': 'Correia', 'first_name': 'Flávio', 'id': 1022021295}}}"
   ]
  },
  {
   "cell_type": "code",
   "execution_count": 8,
   "id": "4bee6e74",
   "metadata": {},
   "outputs": [],
   "source": [
    "update = {'message': {'delete_chat_photo': False, 'group_chat_created': False, 'text': '/send', 'new_chat_members': [], 'chat': {'type': 'private', 'first_name': 'Flávio', 'last_name': 'Correia', 'id': 1022021295}, 'message_id': 12, 'caption_entities': [], 'channel_chat_created': False, 'new_chat_photo': [], 'photo': [], 'entities': [{'length': 5, 'offset': 0, 'type': 'bot_command'}], 'date': 1660260499, 'supergroup_chat_created': False, 'from': {'first_name': 'Flávio', 'last_name': 'Correia', 'language_code': 'en', 'is_bot': False, 'id': 1022021295}}, 'update_id': 140445663}"
   ]
  },
  {
   "cell_type": "code",
   "execution_count": null,
   "id": "d1ab94a0",
   "metadata": {},
   "outputs": [],
   "source": [
    "##testeBotMain.py\n",
    "from telegram import Update, ForceReply\n",
    "from telegram.ext import Updater, CommandHandler, MessageHandler, Filters, CallbackContext\n",
    "from botFunctions import *\n",
    "\n",
    "TOKEN = \"5321007840:AAEKo1UpT4fosWtyOabU5unKfqz2YRRNCQ0\"\n",
    "bot = Updater(TOKEN)\n",
    "\n",
    "#MANIPULADOR DE ROTAS\n",
    "dispatcher = bot.dispatcher\n",
    "\n",
    "#ADICIONA ROTAS\n",
    "dispatcher.add_handler(CommandHandler(\"start\", start))\n",
    "dispatcher.add_handler(CommandHandler(\"teste1\", teste1))\n",
    "dispatcher.add_handler(CommandHandler(\"teste2\", teste2))\n",
    "dispatcher.add_handler(CommandHandler(\"gerarexcel\", sendXLSXFile))\n",
    "dispatcher.add_handler(MessageHandler(Filters.document, downloadFile))\n",
    "dispatcher.add_handler(MessageHandler(Filters.photo, detectFaceImage))\n",
    "\n",
    "\n",
    "#INICIA O BOT\n",
    "print(\"Bot Iniciado\")\n",
    "bot.start_polling()\n",
    "\n",
    "#PERMITE CANCELAR O BOT\n",
    "bot.idle()\n",
    "\n",
    "'''\n",
    "dispatcher.add_handler(MessageHandler(Filters.group, self._group_hook()))\n",
    "dispatcher.add_handler(MessageHandler(Filters.text, self._msg_hook(TextMessageEvent)))\n",
    "dispatcher.add_handler(MessageHandler(Filters.photo, self._msg_hook(PhotoMessageEvent)))\n",
    "dispatcher.add_handler(MessageHandler(Filters.video, self._msg_hook(VideoMessageEvent)))\n",
    "dispatcher.add_handler(MessageHandler(Filters.contact, self._msg_hook(ContactMessageEvent)))\n",
    "dispatcher.add_handler(MessageHandler(Filters.location, self._msg_hook(LocationMessageEvent)))\n",
    "dispatcher.add_handler(MessageHandler(Filters.document, self._msg_hook(DocumentMessageEvent)))\n",
    "dispatcher.add_handler(MessageHandler(Filters.command, self._command_hook()))\n",
    "'''\n"
   ]
  },
  {
   "cell_type": "code",
   "execution_count": null,
   "id": "8b1773e3",
   "metadata": {},
   "outputs": [],
   "source": [
    "## botFunctions.py\n",
    "#C:\\\\Users\\\\FL20310106\\\\AppData\\\\Local\\\\Continuum\\\\anaconda3\\\\envs\\\\pydev\n",
    "#C:\\Users\\FL20310106\\AppData\\Local\\Continuum\\anaconda3\\envs\\pyDev\n",
    "from telegram import Update, ForceReply\n",
    "from telegram.ext import Updater, CommandHandler, MessageHandler, Filters, CallbackContext\n",
    "from folderManagement import *\n",
    "from botPandas import *\n",
    "from botMachineLearning import *\n",
    "#update.message.reply_text(\"MENSAGEM\")\n",
    "\n",
    "id_image = 0\n",
    "\n",
    "#MSG QUANDO BOT É INICIADO\n",
    "def start(update: Update, context: CallbackContext):\n",
    "    update.message.reply_text(\"Você acionou start\")\n",
    "\n",
    "\n",
    "def detectFaceImage(update: Update, context: CallbackContext):    \n",
    "    global id_image\n",
    "    update.message.reply_text(\"Imagem recebida para detecção.\")\n",
    "    file = update.message.photo[-1].get_file()\n",
    "    chatId = update.message.chat.id\n",
    "\n",
    "    pathImage = f\"faceDetection//{chatId}_image.jpg\"\n",
    "    pathImage = f\"faceDetection//{chatId}_image_{id_image}.jpg\"\n",
    "    removeFile(pathImage)\n",
    "    file.download(pathImage)\n",
    "\n",
    "    statusDetection = detectFaceCv2( pathImage )\n",
    "    if statusDetection == \"-1\": # nao detectou faces\n",
    "        update.message.reply_text(\"Não foram detectadas faces.\")\n",
    "    else: # detectou faces\n",
    "        update.message.reply_text(\"Foram detectados rostos.\")\n",
    "        context.bot.send_photo(chat_id=update.message.chat.id, photo=open(statusDetection, 'rb'))\n",
    "        \n",
    "    id_image +=1\n",
    "\n",
    "def downloadFile(update: Update, context: CallbackContext):  \n",
    "    file = update.message.document\n",
    "    extensao = file.file_name.split(\".\")[-1]\n",
    "    if extensao in [\"csv\", \"xlsx\", \"xls\"]:\n",
    "        update.message.reply_text(\"Arquivo recebido\")\n",
    "        clearFolder(\"downloads\")\n",
    "\n",
    "        #FAZ DOWNLOAD DO ARQUIVO\n",
    "        with open(\"downloads/\"+file.file_name, 'wb') as f:\n",
    "            context.bot.get_file(update.message.document).download(out=f)\n",
    "        \n",
    "        if extensao in [\"xlsx\", \"xls\"]:\n",
    "            update.message.reply_text(\"Excel\")\n",
    "            describeDataFrame( pd.read_excel(\"downloads/\"+file.file_name) )\n",
    "        elif extensao in [\"csv\"]:\n",
    "            update.message.reply_text(\"CSV\")\n",
    "            describeDataFrame( pd.read_csv(\"downloads/\"+file.file_name, sep=\";\") )\n",
    "        \n",
    "        update.message.reply_text(\"Enviando resumo\")\n",
    "        #ENVIA IMAGEM PARA O USUARIO\n",
    "        context.bot.send_photo(chat_id=update.message.chat.id, photo=open('created_files/df.png', 'rb'))\n",
    "    else:\n",
    "        update.message.reply_text(\"Tipo de arquivo não suportado.\")\n",
    "\n",
    "def sendXLSXFile(update: Update, context: CallbackContext): \n",
    "    context.bot.sendDocument(\n",
    "        chat_id=update.message.chat.id, \n",
    "        caption =\"Arquivo excel do relatório.\", \n",
    "        document=open(\"created_files/df.xlsx\", 'rb'))\n",
    "\n",
    "def teste1(update: Update, context: CallbackContext):\n",
    "    print(update)\n",
    "    print(\"- - - - - \"*5)\n",
    "    print(context)\n",
    "    update.message.reply_text('Olá')\n",
    "\n",
    "def teste2(update: Update, context: CallbackContext):\n",
    "    user = update.effective_user\n",
    "    update.message.reply_markdown_v2(\n",
    "        f'Olá {user.mention_markdown_v2()}', reply_markup=ForceReply(selective=True),\n",
    "    )\n",
    "\n",
    "\n",
    "\n",
    "'''\n",
    "ENVIAR DOCUMENTO PELO TELEGRAM\n",
    "def send_document(update, context):\n",
    "    chat_id = update.message.chat_id\n",
    "    document = open('image1.png', 'rb')\n",
    "    context.bot.send_document(chat_id, document)\n",
    "\n",
    "dispatcher.add_handler(CommandHandler(\"send\", send_document))\n",
    "'''"
   ]
  },
  {
   "cell_type": "code",
   "execution_count": null,
   "id": "b617cc97",
   "metadata": {},
   "outputs": [],
   "source": [
    "## botMachineLearning.py\n",
    "import cv2\n",
    "import matplotlib.pyplot as plt\n",
    "\n",
    "#more weights\n",
    "#https://github.com/opencv/opencv/tree/master/data/haarcascades\n",
    "cv2FaceDetector = cv2.CascadeClassifier(\"haarcascade_frontalface_default.xml\")\n",
    "\n",
    "def detectFaceCv2( imagePath ):\n",
    "    #img = cv2.cvtColor( cv2.imread( imagePath ), cv2.COLOR_BGR2RGB)\n",
    "    img = cv2.imread( imagePath )\n",
    "    img_gray = cv2.imread(imagePath, 0)\n",
    "\n",
    "    faces = cv2FaceDetector.detectMultiScale(img_gray)\n",
    "\n",
    "    if len(faces) > 0:\n",
    "        for x, y, width, height in faces:\n",
    "            cv2.rectangle(img, (x, y), (x + width, y + height), color=(255, 0, 0), thickness=2)\n",
    "\n",
    "        imagePathDetected = imagePath.split(\".\")[0]+\"_faces.jpg\"\n",
    "        cv2.imwrite(imagePathDetected, img);\n",
    "        return imagePathDetected\n",
    "    else:\n",
    "        return \"-1\"\n"
   ]
  },
  {
   "cell_type": "code",
   "execution_count": null,
   "id": "423a9516",
   "metadata": {},
   "outputs": [],
   "source": [
    "## botPandas\n",
    "import pandas as pd\n",
    "import dataframe_image as dfi\n",
    "\n",
    "def describeDataFrame( df:pd.DataFrame ):\n",
    "    #return df.describe(exclude=[object]) \n",
    "    #return df.describe(include=\"all\")\n",
    "    df_final = df.describe(include=\"all\").round(2).fillna(0)\n",
    "    df_final = df_final.loc[ [\"count\", \"unique\", \"mean\", \"std\", \"min\", \"25%\", \"50%\", \"75%\", \"max\"] ,:]\n",
    "    dfi.export( df_final, \"created_files/df.png\" )\n",
    "    df_final.to_excel( \"created_files/df.xlsx\" )\n",
    "    return df_final"
   ]
  },
  {
   "cell_type": "code",
   "execution_count": null,
   "id": "d6cc7614",
   "metadata": {},
   "outputs": [],
   "source": [
    "## folderManagement\n",
    "import os\n",
    "\n",
    "def clearFolder( folderName:str ):\n",
    "    listFiles = os.listdir( folderName )\n",
    "    for file in listFiles:\n",
    "        os.remove(folderName+\"/\"+file)\n",
    "\n",
    "def removeFile( fileName:str , path:str=\"./\"):\n",
    "    listFiles = os.listdir( path )    \n",
    "    if fileName in listFiles:\n",
    "        os.remove(path+\"/\"+fileName)\n"
   ]
  },
  {
   "cell_type": "code",
   "execution_count": null,
   "id": "58f2a0b5",
   "metadata": {},
   "outputs": [],
   "source": [
    "- Camila do Rocio Nardin - Legal\n",
    "- Claudia Bravo Quezada - +-"
   ]
  }
 ],
 "metadata": {
  "kernelspec": {
   "display_name": "Python 3 (ipykernel)",
   "language": "python",
   "name": "python3"
  },
  "language_info": {
   "codemirror_mode": {
    "name": "ipython",
    "version": 3
   },
   "file_extension": ".py",
   "mimetype": "text/x-python",
   "name": "python",
   "nbconvert_exporter": "python",
   "pygments_lexer": "ipython3",
   "version": "3.7.9"
  }
 },
 "nbformat": 4,
 "nbformat_minor": 5
}
